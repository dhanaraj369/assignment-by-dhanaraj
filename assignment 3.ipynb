{
 "cells": [
  {
   "cell_type": "markdown",
   "id": "4aa03d74",
   "metadata": {},
   "source": [
    "1. Why are functions advantageous to have in your programs?"
   ]
  },
  {
   "cell_type": "markdown",
   "id": "55b567d4",
   "metadata": {},
   "source": [
    "ans- Functions allow the same piece of code to run multiple times\n",
    "Functions reduce the need for duplicate code. This makes programs shorter, easier to read, and easier to update."
   ]
  },
  {
   "cell_type": "markdown",
   "id": "f80d2c7f",
   "metadata": {},
   "source": [
    "2. When does the code in a function run: when ;s specified or when is called?"
   ]
  },
  {
   "cell_type": "markdown",
   "id": "13f72672",
   "metadata": {},
   "source": [
    "ans- The code in a function executes when the function is called, not when the function is defined."
   ]
  },
  {
   "cell_type": "markdown",
   "id": "bb4fd1a4",
   "metadata": {},
   "source": [
    "3. What statement creates a function?"
   ]
  },
  {
   "cell_type": "markdown",
   "id": "0501f051",
   "metadata": {},
   "source": [
    "ans- The def statement defines (that is, creates) a function."
   ]
  },
  {
   "cell_type": "markdown",
   "id": "16b4f9a3",
   "metadata": {},
   "source": [
    "4. What is the difference between a function and a function call?"
   ]
  },
  {
   "cell_type": "markdown",
   "id": "05283d55",
   "metadata": {},
   "source": [
    "A function is a block of code that does a particular operation and returns a result. It usually accepts inputs as parameters and returns a result. The parameters are not mandatory.\n",
    "E.g:\n",
    "Function add(a,b)\n",
    "return a+ b\n",
    "A function call is the code used to pass control to a function.\n",
    "E.g.\n",
    "b = add(5,6)"
   ]
  },
  {
   "cell_type": "markdown",
   "id": "13bac4e1",
   "metadata": {},
   "source": [
    "5. How many global scopes are there in a Python program? How many local scopes?"
   ]
  },
  {
   "cell_type": "markdown",
   "id": "b09e9ab1",
   "metadata": {},
   "source": [
    "When we define a variable, a function or a class name in a program, It is accessible in only a certain region of the program. This certain region in which a name, once defined, can be used to identify an object, a variable or a function is called scope.\n",
    "In python, there are four types of scope, namely in-built scope, global scope,local scope and enclosing scope."
   ]
  },
  {
   "cell_type": "markdown",
   "id": "2249c335",
   "metadata": {},
   "source": [
    "6. What happens to variables in a local scope when the function call returns?"
   ]
  },
  {
   "cell_type": "markdown",
   "id": "97a11cb3",
   "metadata": {},
   "source": [
    "ans- When a function call returns, the variables in its local scope are destroyed and their values are no longer accessible"
   ]
  },
  {
   "cell_type": "markdown",
   "id": "16eac888",
   "metadata": {},
   "source": [
    "7. What is the concept of a return value? Is it possible to have a return value in an expression?"
   ]
  },
  {
   "cell_type": "markdown",
   "id": "94566d0a",
   "metadata": {},
   "source": [
    "A return value is a value that a function returns to the calling script or function when it completes its task"
   ]
  },
  {
   "cell_type": "markdown",
   "id": "004d2c73",
   "metadata": {},
   "source": [
    "8. If a function does not have a return statement, what is the return value of a call to that function?"
   ]
  },
  {
   "cell_type": "markdown",
   "id": "a58e0fdd",
   "metadata": {},
   "source": [
    "ans- If there is no return statement for a function, its return value is None."
   ]
  },
  {
   "cell_type": "markdown",
   "id": "e98a6a15",
   "metadata": {},
   "source": [
    "9. How do you make a function variable refer to the global variable?"
   ]
  },
  {
   "cell_type": "markdown",
   "id": "74572c77",
   "metadata": {},
   "source": [
    "ans- A global statement will force a variable in a function to refer to the global variable."
   ]
  },
  {
   "cell_type": "markdown",
   "id": "cb70b28b",
   "metadata": {},
   "source": [
    "10. What is the data type of None?"
   ]
  },
  {
   "cell_type": "markdown",
   "id": "a5902b0b",
   "metadata": {},
   "source": [
    "ans- None is a data type of its own (NoneType) and only None can be None."
   ]
  },
  {
   "cell_type": "markdown",
   "id": "07937bee",
   "metadata": {},
   "source": [
    "11. What does the sentence import areallyourpetsnamederic do?"
   ]
  },
  {
   "cell_type": "markdown",
   "id": "37812427",
   "metadata": {},
   "source": [
    "ans - That import statement imports a module named areallyourpetsnamederic.\n",
    "there is no such module in Python,"
   ]
  },
  {
   "cell_type": "code",
   "execution_count": 2,
   "id": "53213fa0",
   "metadata": {},
   "outputs": [
    {
     "ename": "ModuleNotFoundError",
     "evalue": "No module named 'areallyourpetsnamederic'",
     "output_type": "error",
     "traceback": [
      "\u001b[1;31m---------------------------------------------------------------------------\u001b[0m",
      "\u001b[1;31mModuleNotFoundError\u001b[0m                       Traceback (most recent call last)",
      "\u001b[1;32m~\\AppData\\Local\\Temp/ipykernel_21800/51184242.py\u001b[0m in \u001b[0;36m<module>\u001b[1;34m\u001b[0m\n\u001b[1;32m----> 1\u001b[1;33m \u001b[1;32mimport\u001b[0m \u001b[0mareallyourpetsnamederic\u001b[0m\u001b[1;33m\u001b[0m\u001b[1;33m\u001b[0m\u001b[0m\n\u001b[0m",
      "\u001b[1;31mModuleNotFoundError\u001b[0m: No module named 'areallyourpetsnamederic'"
     ]
    }
   ],
   "source": [
    "import areallyourpetsnamederic"
   ]
  },
  {
   "cell_type": "markdown",
   "id": "61c04606",
   "metadata": {},
   "source": [
    "12. If you had a bacon() feature in a spam module, what would you call it after importing spam?"
   ]
  },
  {
   "cell_type": "markdown",
   "id": "df4aeb68",
   "metadata": {},
   "source": [
    "ans -This function can be called with spam.bacon()."
   ]
  },
  {
   "cell_type": "markdown",
   "id": "59b5c9bd",
   "metadata": {},
   "source": [
    "13. What can you do to save a programme from crashing if it encounters an error?"
   ]
  },
  {
   "cell_type": "markdown",
   "id": "c3d40d79",
   "metadata": {},
   "source": []
  },
  {
   "cell_type": "markdown",
   "id": "1e50690d",
   "metadata": {},
   "source": []
  },
  {
   "cell_type": "markdown",
   "id": "d0bac3a5",
   "metadata": {},
   "source": []
  },
  {
   "cell_type": "markdown",
   "id": "075b636e",
   "metadata": {},
   "source": []
  },
  {
   "cell_type": "markdown",
   "id": "d9f0a075",
   "metadata": {},
   "source": []
  },
  {
   "cell_type": "markdown",
   "id": "f2be0651",
   "metadata": {},
   "source": []
  },
  {
   "cell_type": "markdown",
   "id": "4587c1ad",
   "metadata": {},
   "source": []
  },
  {
   "cell_type": "markdown",
   "id": "3368592c",
   "metadata": {},
   "source": []
  },
  {
   "cell_type": "markdown",
   "id": "9d56d089",
   "metadata": {},
   "source": []
  },
  {
   "cell_type": "markdown",
   "id": "677c15db",
   "metadata": {},
   "source": []
  },
  {
   "cell_type": "markdown",
   "id": "5618da39",
   "metadata": {},
   "source": []
  },
  {
   "cell_type": "markdown",
   "id": "531b0835",
   "metadata": {},
   "source": []
  },
  {
   "cell_type": "markdown",
   "id": "88e6a3e1",
   "metadata": {},
   "source": []
  },
  {
   "cell_type": "markdown",
   "id": "e8f7f13f",
   "metadata": {},
   "source": []
  }
 ],
 "metadata": {
  "kernelspec": {
   "display_name": "Python 3 (ipykernel)",
   "language": "python",
   "name": "python3"
  },
  "language_info": {
   "codemirror_mode": {
    "name": "ipython",
    "version": 3
   },
   "file_extension": ".py",
   "mimetype": "text/x-python",
   "name": "python",
   "nbconvert_exporter": "python",
   "pygments_lexer": "ipython3",
   "version": "3.9.7"
  }
 },
 "nbformat": 4,
 "nbformat_minor": 5
}
