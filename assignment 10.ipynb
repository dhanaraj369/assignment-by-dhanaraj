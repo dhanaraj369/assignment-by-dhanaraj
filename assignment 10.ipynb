{
 "cells": [
  {
   "cell_type": "markdown",
   "id": "c40942b1",
   "metadata": {},
   "source": [
    "1. How do you distinguish between shutil.copy() and shutil.copytree()?"
   ]
  },
  {
   "cell_type": "markdown",
   "id": "808fb9ca",
   "metadata": {},
   "source": [
    "ans- Tshutil.copy() method is used to copy the contents of a file from one file to another file/folder, it primary takes two arguments src,dest, src represents the file to be copied where as destination refers to the file/folder to where the src data should be copied, if dest is a folder name the src with exact name will be copied to the dest folder, if its a file then the contents of src will be copied to dest where dest retains it name.\n",
    "\n",
    "shutil.copytree() function is used to copy the entire contents of a folder to other folder. it also takes two arguments src & dest, it copies all the content recursively and stores it in dest. the important catch here is dest must not exist prior to this and it will be created during the copy operation. Permissions and times of directories are copied with shutil.copystat() and individual files are copied using shutil.copy2() by default which can be modified using copy_function attribute."
   ]
  },
  {
   "cell_type": "markdown",
   "id": "b254ef22",
   "metadata": {},
   "source": [
    "2. What function is used to rename files??"
   ]
  },
  {
   "cell_type": "markdown",
   "id": "0e8bf5c9",
   "metadata": {},
   "source": [
    "ans-The shutil.move() function is used for renaming files as well as moving them."
   ]
  },
  {
   "cell_type": "markdown",
   "id": "02107bca",
   "metadata": {},
   "source": [
    "3. What is the difference between the delete functions in the send2trash and shutil modules?"
   ]
  },
  {
   "cell_type": "markdown",
   "id": "46f13147",
   "metadata": {},
   "source": [
    "ans- The send2trash functions will move a file or folder to the recycle bin, while shutil functions will permanently delete files and folders."
   ]
  },
  {
   "cell_type": "markdown",
   "id": "547d760d",
   "metadata": {},
   "source": [
    "4. ZipFile objects have a close() method just like File objects’ close() method. What ZipFile method is equivalent to File objects’ open() method?"
   ]
  },
  {
   "cell_type": "markdown",
   "id": "7fbd0318",
   "metadata": {},
   "source": [
    "ans-  ZipFile Module provides a method called as zipfile.ZipFile() to read and write to zipFiles. it takes arugments lile filename and mode etc zipfile.ZipFile('filename', mode = 'r')"
   ]
  },
  {
   "cell_type": "markdown",
   "id": "b025dbfc",
   "metadata": {},
   "source": [
    "5. Create a programme that searches a folder tree for files with a certain file extension (such as .pdf or .jpg). Copy these files from whatever location they are in to a new folder."
   ]
  },
  {
   "cell_type": "markdown",
   "id": "abe9ec04",
   "metadata": {},
   "source": [
    "import os\n",
    "import shutil\n",
    "\n",
    "def search_and_copy_files(source_folder, target_folder, file_extension):\n",
    "    if not os.path.exists(target_folder):\n",
    "        os.makedirs(target_folder)\n",
    "\n",
    "    for root, _, files in os.walk(source_folder):\n",
    "        for filename in files:\n",
    "            if filename.lower().endswith(file_extension):\n",
    "                source_path = os.path.join(root, filename)\n",
    "                target_path = os.path.join(target_folder, filename)\n",
    "                shutil.copy2(source_path, target_path)\n",
    "                print(f\"Copied: {source_path} to {target_path}\")\n",
    "\n",
    "if __name__ == \"__main__\":\n",
    "    source_folder = input(\"Enter the source folder path: \")\n",
    "    target_folder = input(\"Enter the target folder path: \")\n",
    "    file_extension = input(\"Enter the file extension (e.g., .pdf, .jpg): \")\n",
    "\n",
    "    search_and_copy_files(source_folder, target_folder, file_extension)\n",
    "    print(\"Search and copy completed.\")\n"
   ]
  }
 ],
 "metadata": {
  "kernelspec": {
   "display_name": "Python 3 (ipykernel)",
   "language": "python",
   "name": "python3"
  },
  "language_info": {
   "codemirror_mode": {
    "name": "ipython",
    "version": 3
   },
   "file_extension": ".py",
   "mimetype": "text/x-python",
   "name": "python",
   "nbconvert_exporter": "python",
   "pygments_lexer": "ipython3",
   "version": "3.9.7"
  }
 },
 "nbformat": 4,
 "nbformat_minor": 5
}
