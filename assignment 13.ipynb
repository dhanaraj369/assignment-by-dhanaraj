{
 "cells": [
  {
   "cell_type": "markdown",
   "id": "4a7c861d",
   "metadata": {},
   "source": [
    "1. What advantages do Excel spreadsheets have over CSV spreadsheets?"
   ]
  },
  {
   "cell_type": "markdown",
   "id": "40d0f028",
   "metadata": {},
   "source": [
    "Excel (XLS and XLSX) file formats are better for storing and analysing complex data.\n",
    "An Excel not only stores data but can also do operations on the data using macros, formulas etc\n",
    "CSV files are plain-text files, Does not contain formatting, formulas, macros, etc. It is also known as flat files"
   ]
  },
  {
   "cell_type": "markdown",
   "id": "952b5983",
   "metadata": {},
   "source": [
    "2.What do you pass to csv.reader() and csv.writer() to create reader and writer objects?"
   ]
  },
  {
   "cell_type": "code",
   "execution_count": 10,
   "id": "9726726b",
   "metadata": {},
   "outputs": [],
   "source": [
    "import csv\n",
    "\n",
    "with open('output.csv', 'w', newline='') as csvfile:\n",
    "    csvwriter = csv.writer(csvfile)\n",
    "    csvwriter.writerow(['Name', 'Age', 'City'])\n",
    "    csvwriter.writerow(['Alice', 28, 'New York'])\n",
    "    csvwriter.writerow(['Bob', 35, 'San Francisco'])\n"
   ]
  },
  {
   "cell_type": "markdown",
   "id": "f2f5b080",
   "metadata": {},
   "source": [
    "3. What modes do File objects for reader and writer objects need to be opened in?"
   ]
  },
  {
   "cell_type": "markdown",
   "id": "e0a6e998",
   "metadata": {},
   "source": [
    "CSV Reader (csv.reader()):\n",
    "For CSV reader objects, you need to open the file in read mode ('r'). This is because you're reading data from the file. You can also use the 't' (text) mode flag, but it's not necessary as text mode is the default.\n",
    "\n",
    "CSV Writer (csv.writer()):\n",
    "For CSV writer objects, you need to open the file in write mode ('w'). This is because you're writing data to the file. Additionally, you should use the 'newline' parameter set to an empty string to handle newline characters correctly across different platforms."
   ]
  },
  {
   "cell_type": "markdown",
   "id": "5f76fbd3",
   "metadata": {},
   "source": [
    "4. What method takes a list argument and writes it to a CSV file?"
   ]
  },
  {
   "cell_type": "markdown",
   "id": "27074e28",
   "metadata": {},
   "source": [
    "The method that takes a list argument and writes it to a CSV file is the writerow() method of a CSV writer object. This method is part of the csv module in Python and is used to write a single row of data (represented as a list) to a CSV file"
   ]
  },
  {
   "cell_type": "code",
   "execution_count": 11,
   "id": "2657e101",
   "metadata": {},
   "outputs": [],
   "source": [
    "import csv\n",
    "\n",
    "data = ['Alice', 28, 'New York']\n",
    "\n",
    "with open('output.csv', 'w', newline='') as csvfile:\n",
    "    csvwriter = csv.writer(csvfile)\n",
    "    csvwriter.writerow(data)\n"
   ]
  },
  {
   "cell_type": "markdown",
   "id": "e82ffdaa",
   "metadata": {},
   "source": [
    "5. What do the keyword arguments delimiter and line terminator do?"
   ]
  },
  {
   "cell_type": "markdown",
   "id": "dc9e347b",
   "metadata": {},
   "source": [
    "delimiter:\n",
    "The delimiter keyword argument specifies the character that is used to separate fields in a CSV file. By default, the comma (,) is used as the delimiter. However, you can change it to a different character if your CSV file uses a different field separator, such as semicolon (;) or tab (\\t).\n",
    "lineterminator:\n",
    "The lineterminator keyword argument defines the character sequence used to terminate lines in the CSV file. By default, the newline character (\\n) is used as the line terminator. If you're working with CSV files on different platforms (Windows, macOS, Linux) and you want consistent line endings, you can set the lineterminator accordingly."
   ]
  },
  {
   "cell_type": "code",
   "execution_count": null,
   "id": "db05fe77",
   "metadata": {},
   "outputs": [],
   "source": [
    "6. What function takes a string of JSON data and returns a Python data structure?"
   ]
  },
  {
   "cell_type": "markdown",
   "id": "071061b9",
   "metadata": {},
   "source": [
    "The function that takes a string of JSON data and returns a Python data structure is json.loads(). This function is part of the json module in Python and is used to deserialize (parse) a JSON-formatted string and convert it into a corresponding Python data structure, usually a dictionary, list, string, number, boolean, or None."
   ]
  },
  {
   "cell_type": "code",
   "execution_count": 25,
   "id": "7cbbd838",
   "metadata": {},
   "outputs": [
    {
     "name": "stdout",
     "output_type": "stream",
     "text": [
      "{'name': 'alice', 'age': 28, 'city': 'new york'}\n",
      "<class 'dict'>\n"
     ]
    }
   ],
   "source": [
    "import json\n",
    "\n",
    "json_data='{\"name\":\"alice\",\"age\": 28,\"city\":\"new york\"}'\n",
    "python_data=json.loads(json_data)\n",
    "print(python_data)\n",
    "print(type(python_data))"
   ]
  },
  {
   "cell_type": "markdown",
   "id": "1e9919e3",
   "metadata": {},
   "source": [
    "7. What function takes a Python data structure and returns a string of JSON data?"
   ]
  },
  {
   "cell_type": "markdown",
   "id": "20b361f3",
   "metadata": {},
   "source": [
    "he function that takes a Python data structure and returns a string of JSON data is json.dumps(). This function is part of the json module in Python and is used to serialize a Python object (dictionary, list, etc.) into a JSON-formatted string."
   ]
  },
  {
   "cell_type": "code",
   "execution_count": 22,
   "id": "0d78a731",
   "metadata": {},
   "outputs": [
    {
     "name": "stdout",
     "output_type": "stream",
     "text": [
      "{\"name\": \"dhanaraj\", \"age\": 25, \"city\": \"Delhi\"}\n",
      "<class 'str'>\n"
     ]
    }
   ],
   "source": [
    "import json\n",
    "\n",
    "json_data = {\"name\":\"dhanaraj\",\"age\": 25 , \"city\": \"Delhi\"}\n",
    "python_data = json.dumps(json_data)\n",
    "print(python_data)\n",
    "print(type(python_data))"
   ]
  },
  {
   "cell_type": "code",
   "execution_count": null,
   "id": "fbb67ede",
   "metadata": {},
   "outputs": [],
   "source": []
  }
 ],
 "metadata": {
  "kernelspec": {
   "display_name": "Python 3 (ipykernel)",
   "language": "python",
   "name": "python3"
  },
  "language_info": {
   "codemirror_mode": {
    "name": "ipython",
    "version": 3
   },
   "file_extension": ".py",
   "mimetype": "text/x-python",
   "name": "python",
   "nbconvert_exporter": "python",
   "pygments_lexer": "ipython3",
   "version": "3.9.7"
  }
 },
 "nbformat": 4,
 "nbformat_minor": 5
}
