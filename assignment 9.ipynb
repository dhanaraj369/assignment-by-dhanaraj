{
 "cells": [
  {
   "cell_type": "markdown",
   "id": "8b6b8c32",
   "metadata": {},
   "source": [
    "1. To what does a relative path refer?"
   ]
  },
  {
   "cell_type": "markdown",
   "id": "d3e15328",
   "metadata": {},
   "source": [
    "ans-Relative paths are relative to the current working directory."
   ]
  },
  {
   "cell_type": "markdown",
   "id": "f129fd39",
   "metadata": {},
   "source": [
    "2. What does an absolute path start with your operating system?"
   ]
  },
  {
   "cell_type": "markdown",
   "id": "08ff3b36",
   "metadata": {},
   "source": [
    "ans- Absolute paths start with the root folder, such as / or C:."
   ]
  },
  {
   "cell_type": "markdown",
   "id": "c98bb7c8",
   "metadata": {},
   "source": [
    "3. What do the functions os.getcwd() and os.chdir() do?"
   ]
  },
  {
   "cell_type": "markdown",
   "id": "9d6318f2",
   "metadata": {},
   "source": [
    "ans-The os.getcwd() function returns the current working directory. The os.chdir() function changes the current working directory."
   ]
  },
  {
   "cell_type": "markdown",
   "id": "b21af968",
   "metadata": {},
   "source": [
    "4. What are the . and .. folders?"
   ]
  },
  {
   "cell_type": "markdown",
   "id": "81bf4c14",
   "metadata": {},
   "source": [
    "ans- The . folder is the current folder, and .. is the parent folder."
   ]
  },
  {
   "cell_type": "markdown",
   "id": "e1d93d61",
   "metadata": {},
   "source": [
    "5. In C:\\bacon\\eggs\\spam.txt, which part is the dir name, and which part is the base name?"
   ]
  },
  {
   "cell_type": "markdown",
   "id": "2a261552",
   "metadata": {},
   "source": [
    "ans- C:\\bacon\\eggs is the dir name, while spam.txt is the base name."
   ]
  },
  {
   "cell_type": "markdown",
   "id": "2aec0990",
   "metadata": {},
   "source": [
    "6. What are the three “mode” arguments that can be passed to the open() function?"
   ]
  },
  {
   "cell_type": "markdown",
   "id": "00809b6a",
   "metadata": {},
   "source": [
    "ans-The string 'r' for read mode, 'w' for write mode, and 'a' for append mode."
   ]
  },
  {
   "cell_type": "markdown",
   "id": "b371c00d",
   "metadata": {},
   "source": [
    "7. What happens if an existing file is opened in write mode?"
   ]
  },
  {
   "cell_type": "markdown",
   "id": "6cc4a5a8",
   "metadata": {},
   "source": [
    "ans- An existing file opened in write mode is erased and completely overwritten."
   ]
  },
  {
   "cell_type": "markdown",
   "id": "165bf447",
   "metadata": {},
   "source": [
    "8. How do you tell the difference between read() and readlines()?"
   ]
  },
  {
   "cell_type": "markdown",
   "id": "babf7f03",
   "metadata": {},
   "source": [
    "ans- The read() method returns the file’s entire contents as a single string value. The readlines() method returns a list of strings, where each string is a line from the file’s contents."
   ]
  },
  {
   "cell_type": "markdown",
   "id": "1618a997",
   "metadata": {},
   "source": [
    "9. What data structure does a shelf value resemble?"
   ]
  },
  {
   "cell_type": "markdown",
   "id": "8afee622",
   "metadata": {},
   "source": [
    "ans-A shelf value resembles a dictionary value; it has keys and values, along with keys() and values() methods that work similarly to the dictionary methods of the same names."
   ]
  }
 ],
 "metadata": {
  "kernelspec": {
   "display_name": "Python 3 (ipykernel)",
   "language": "python",
   "name": "python3"
  },
  "language_info": {
   "codemirror_mode": {
    "name": "ipython",
    "version": 3
   },
   "file_extension": ".py",
   "mimetype": "text/x-python",
   "name": "python",
   "nbconvert_exporter": "python",
   "pygments_lexer": "ipython3",
   "version": "3.9.7"
  }
 },
 "nbformat": 4,
 "nbformat_minor": 5
}
