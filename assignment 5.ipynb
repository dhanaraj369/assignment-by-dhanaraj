{
 "cells": [
  {
   "cell_type": "markdown",
   "id": "a5b9f3c8",
   "metadata": {},
   "source": [
    "1. What does an empty dictionarys code look like?"
   ]
  },
  {
   "cell_type": "markdown",
   "id": "51ec5b6b",
   "metadata": {},
   "source": [
    "Two curly brackets: {}"
   ]
  },
  {
   "cell_type": "markdown",
   "id": "dd176778",
   "metadata": {},
   "source": [
    "2. What is the value of a dictionary value with the key foo; and the value 42?"
   ]
  },
  {
   "cell_type": "markdown",
   "id": "d30d27bc",
   "metadata": {},
   "source": [
    "{'foo': 42}"
   ]
  },
  {
   "cell_type": "markdown",
   "id": "72d2f006",
   "metadata": {},
   "source": [
    "3. What is the most significant distinction between a dictionary and a list?"
   ]
  },
  {
   "cell_type": "markdown",
   "id": "eca8bf7e",
   "metadata": {},
   "source": [
    "A dictionary maps a key to a value, whereas a list just contains a collection of values.\n",
    "A dictionary cannot have duplicate keys, whereas lists allow duplicate items\n",
    "The items stored in a dictionary are unordered, while the items in a list are ordered."
   ]
  },
  {
   "cell_type": "markdown",
   "id": "e681baf3",
   "metadata": {},
   "source": [
    "4. What happens if you try to access spam['foo'] if spam is {'bar': 100}?"
   ]
  },
  {
   "cell_type": "code",
   "execution_count": 1,
   "id": "157ec6c0",
   "metadata": {},
   "outputs": [
    {
     "ename": "KeyError",
     "evalue": "'foo'",
     "output_type": "error",
     "traceback": [
      "\u001b[1;31m---------------------------------------------------------------------------\u001b[0m",
      "\u001b[1;31mKeyError\u001b[0m                                  Traceback (most recent call last)",
      "\u001b[1;32m~\\AppData\\Local\\Temp/ipykernel_12788/1112761422.py\u001b[0m in \u001b[0;36m<module>\u001b[1;34m\u001b[0m\n\u001b[0;32m      1\u001b[0m \u001b[0mspam\u001b[0m\u001b[1;33m=\u001b[0m \u001b[1;33m{\u001b[0m\u001b[1;34m'bar'\u001b[0m\u001b[1;33m:\u001b[0m \u001b[1;36m100\u001b[0m\u001b[1;33m}\u001b[0m\u001b[1;33m\u001b[0m\u001b[1;33m\u001b[0m\u001b[0m\n\u001b[1;32m----> 2\u001b[1;33m \u001b[0mspam\u001b[0m\u001b[1;33m[\u001b[0m\u001b[1;34m'foo'\u001b[0m\u001b[1;33m]\u001b[0m\u001b[1;33m\u001b[0m\u001b[1;33m\u001b[0m\u001b[0m\n\u001b[0m",
      "\u001b[1;31mKeyError\u001b[0m: 'foo'"
     ]
    }
   ],
   "source": [
    "spam= {'bar': 100}\n",
    "spam['foo']"
   ]
  },
  {
   "cell_type": "markdown",
   "id": "e4bedbc8",
   "metadata": {},
   "source": [
    "we get a keyError "
   ]
  },
  {
   "cell_type": "markdown",
   "id": "37c35a87",
   "metadata": {},
   "source": [
    "5. If a dictionary is stored in spam, what is the difference between the expressions 'cat' in spam and 'cat' in spam.keys()?"
   ]
  },
  {
   "cell_type": "markdown",
   "id": "7da5c50b",
   "metadata": {},
   "source": [
    "There is no difference. The in operator checks whether a value exists as a key in the dictionary."
   ]
  },
  {
   "cell_type": "markdown",
   "id": "a641ff04",
   "metadata": {},
   "source": [
    "6. If a dictionary is stored in spam, what is the difference between the expressions 'cat' in spam and 'cat' in spam.values()?"
   ]
  },
  {
   "cell_type": "markdown",
   "id": "19017d2d",
   "metadata": {},
   "source": [
    "'cat' in spam checks whether there is a 'cat' key in the dictionary, while 'cat' in spam.values() checks whether there is a value 'cat' for one of the keys in spam."
   ]
  },
  {
   "cell_type": "markdown",
   "id": "9397b781",
   "metadata": {},
   "source": [
    "7. What is a shortcut for the following code?\n",
    "ans- \n",
    "if 'color' not in spam: spam['color'] = 'black'\n",
    "\n",
    "spam.setdefault('color', 'black')"
   ]
  },
  {
   "cell_type": "markdown",
   "id": "659417b7",
   "metadata": {},
   "source": [
    "8. How do you &quot;pretty print&quot; dictionary values using which module and function?"
   ]
  },
  {
   "cell_type": "markdown",
   "id": "88cebc69",
   "metadata": {},
   "source": [
    "ans- pprint.pprint()"
   ]
  }
 ],
 "metadata": {
  "kernelspec": {
   "display_name": "Python 3 (ipykernel)",
   "language": "python",
   "name": "python3"
  },
  "language_info": {
   "codemirror_mode": {
    "name": "ipython",
    "version": 3
   },
   "file_extension": ".py",
   "mimetype": "text/x-python",
   "name": "python",
   "nbconvert_exporter": "python",
   "pygments_lexer": "ipython3",
   "version": "3.9.7"
  }
 },
 "nbformat": 4,
 "nbformat_minor": 5
}
