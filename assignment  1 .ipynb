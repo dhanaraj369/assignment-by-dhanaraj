{
 "cells": [
  {
   "cell_type": "raw",
   "id": "1508328c",
   "metadata": {},
   "source": [
    "\"'1. In the below elements which of them are values or an expression? eg:- values can be integer or string and expressions will be mathematical operators.\n",
    "* \n",
    "'hello'\n",
    "-87.8\n",
    "- \n",
    "/ \"'"
   ]
  },
  {
   "cell_type": "markdown",
   "id": "4fdaf4b3",
   "metadata": {},
   "source": [
    "ans - there are total 2 values i.e.- 'hello' -type - string , -87.8 - integer \n",
    "and 3 expressions or mathematical operators - * , - , / "
   ]
  },
  {
   "cell_type": "markdown",
   "id": "833c0d24",
   "metadata": {},
   "source": [
    "2. What is the difference between string and variable?"
   ]
  },
  {
   "cell_type": "markdown",
   "id": "b3486b55",
   "metadata": {},
   "source": [
    "ans - a variable is a store of information and a string is a type of information\n",
    "you would store in variable \n",
    "a string is usually words , enclosed with \"\".\n",
    " eg - \n",
    "class_name = \"data science ka class\"\n",
    "here class_name is variable and other is string "
   ]
  },
  {
   "cell_type": "markdown",
   "id": "dca24eb6",
   "metadata": {},
   "source": [
    "3. Describe three different data types."
   ]
  },
  {
   "cell_type": "markdown",
   "id": "b74087ff",
   "metadata": {},
   "source": [
    "ans - data types :\n",
    "    1) numeric - int , float , complex \n",
    "    2) text -  string\n",
    "    3) sequence - list, tuple, range \n",
    "    4) set dt - set , frozenset\n",
    "    5) mapping - dict\n",
    "    6) boolean - bool\n",
    "    7) binary - bytearray , memoryview , bytes"
   ]
  },
  {
   "cell_type": "markdown",
   "id": "df2c67e7",
   "metadata": {},
   "source": [
    "4. What is an expression made up of? What do all expressions do?"
   ]
  },
  {
   "cell_type": "markdown",
   "id": "8e08fa1a",
   "metadata": {},
   "source": [
    " An expression is a combination of operators, constants and variables.\n",
    " An expression may consist of one or more operands, and zero or more operators to produce a value."
   ]
  },
  {
   "cell_type": "markdown",
   "id": "8e3d3e33",
   "metadata": {},
   "source": [
    "5. This assignment statements, like spam = 10. What is the difference between an expression and a statement?"
   ]
  },
  {
   "cell_type": "markdown",
   "id": "617dcf4a",
   "metadata": {},
   "source": [
    "ans- Expressions only contain identifiers, literals and operators, where operators include arithmetic and boolean operators, the function call operator () the subscription operator [] and similar, and can be reduced to some kind of \"value\", which can be any Python object.\n",
    "Statements on the other hand, are everything that can make up a line (or several lines) of Python code. Note that expressions are statements as well."
   ]
  },
  {
   "cell_type": "markdown",
   "id": "bbc0a3f2",
   "metadata": {},
   "source": [
    "6. After running the following code, what does the variable bacon contain?\n",
    "bacon = 22\n",
    "bacon + 1\n"
   ]
  },
  {
   "cell_type": "code",
   "execution_count": 6,
   "id": "c52dd44d",
   "metadata": {},
   "outputs": [
    {
     "name": "stdout",
     "output_type": "stream",
     "text": [
      "22\n"
     ]
    }
   ],
   "source": [
    "bacon = 22\n",
    "bacon +1 \n",
    "print(bacon)"
   ]
  },
  {
   "cell_type": "markdown",
   "id": "81de80e3",
   "metadata": {},
   "source": [
    "7. What should the values of the following two terms be?\n",
    "'spam' + 'spamspam'\n",
    "'spam' * 3\n"
   ]
  },
  {
   "cell_type": "code",
   "execution_count": 9,
   "id": "14a020af",
   "metadata": {},
   "outputs": [
    {
     "name": "stdout",
     "output_type": "stream",
     "text": [
      "spamspamspam\n",
      "spamspamspam\n"
     ]
    }
   ],
   "source": [
    "a='spam' + 'spamspam'\n",
    "b='spam' * 3\n",
    "print(a)\n",
    "print(b)"
   ]
  },
  {
   "cell_type": "markdown",
   "id": "b19de478",
   "metadata": {},
   "source": [
    "8. Why is eggs a valid variable name while 100 is invalid?"
   ]
  },
  {
   "cell_type": "markdown",
   "id": "17afbf07",
   "metadata": {},
   "source": [
    "ans- variable name must starts with a letter or the underscore character \n",
    "variable cannot starts with a number \n",
    "so here eggs starts with letter so is it acceptable \n",
    "bt 100 is numeric value so cant accept "
   ]
  },
  {
   "cell_type": "markdown",
   "id": "ede11e43",
   "metadata": {},
   "source": [
    "9. What three functions can be used to get the integer, floating-point number, or string version of a value?"
   ]
  },
  {
   "cell_type": "markdown",
   "id": "83be2866",
   "metadata": {},
   "source": [
    "ans-  int (), float (), and str () functions "
   ]
  },
  {
   "cell_type": "markdown",
   "id": "a36a8f09",
   "metadata": {},
   "source": [
    "10. Why does this expression cause an error? How can you fix it?\n",
    "'I have eaten ' + 99 + ' burritos.'\n"
   ]
  },
  {
   "cell_type": "code",
   "execution_count": 15,
   "id": "cb6469f8",
   "metadata": {},
   "outputs": [
    {
     "data": {
      "text/plain": [
       "'I have eaten 99 burritos.'"
      ]
     },
     "execution_count": 15,
     "metadata": {},
     "output_type": "execute_result"
    }
   ],
   "source": [
    "#ans- bcz except 99 other 2 are strings and 99 is integer \n",
    "\n",
    "#'I have eaten ' + str(99) + ' burritos.'\n",
    "#'I have eaten {} burritos.'.format(99)\n",
    "'I have eaten %d burritos.' % 99\n"
   ]
  }
 ],
 "metadata": {
  "kernelspec": {
   "display_name": "Python 3 (ipykernel)",
   "language": "python",
   "name": "python3"
  },
  "language_info": {
   "codemirror_mode": {
    "name": "ipython",
    "version": 3
   },
   "file_extension": ".py",
   "mimetype": "text/x-python",
   "name": "python",
   "nbconvert_exporter": "python",
   "pygments_lexer": "ipython3",
   "version": "3.9.7"
  }
 },
 "nbformat": 4,
 "nbformat_minor": 5
}
